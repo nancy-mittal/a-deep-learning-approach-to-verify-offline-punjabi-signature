{
 "cells": [
  {
   "cell_type": "code",
   "execution_count": 38,
   "metadata": {
    "id": "mzLsYlilw1VE"
   },
   "outputs": [],
   "source": [
    "import cv2\n",
    "import math\n",
    "import numpy as np\n",
    "import sys\n",
    "import os\n",
    "import itertools\n",
    "import random\n",
    "import tensorflow as tf\n",
    "import matplotlib.pyplot as plt\n",
    "%matplotlib inline\n",
    "\n",
    "from sklearn.utils import shuffle\n",
    "from scipy import ndimage\n",
    "from keras.models import Sequential\n",
    "from tensorflow.keras.optimizers import RMSprop\n",
    "from keras.layers import Conv2D, ZeroPadding2D, Activation, Input, concatenate, Dropout\n",
    "from keras.models import Model\n",
    "from tensorflow.keras.layers import BatchNormalization\n",
    "from keras.layers.pooling import MaxPooling2D\n",
    "from keras.layers.merge import Concatenate\n",
    "from keras.layers.core import Lambda, Flatten, Dense\n",
    "from keras.initializers import glorot_uniform\n",
    "#from keras.engine.topology import Layer\n",
    "from tensorflow.python.keras.layers import Layer\n",
    "#import tensorflow.python.keras.engine import Layer\n",
    "from keras.regularizers import l2\n",
    "from keras import backend as K\n",
    "from keras.callbacks import EarlyStopping, ModelCheckpoint, ReduceLROnPlateau\n",
    "from tensorflow.keras.optimizers import Adam\n",
    "from tensorflow.keras.callbacks import EarlyStopping, ModelCheckpoint, ReduceLROnPlateau, CSVLogger"
   ]
  },
  {
   "cell_type": "markdown",
   "metadata": {
    "id": "M3gdFXj_y0MR"
   },
   "source": [
    "Mount Drive"
   ]
  },
  {
   "cell_type": "code",
   "execution_count": 2,
   "metadata": {
    "colab": {
     "base_uri": "https://localhost:8080/"
    },
    "id": "ttDcdw8pyDh4",
    "outputId": "d39e0a8f-94fc-4b03-d0d5-1d79c4120a9a"
   },
   "outputs": [
    {
     "name": "stdout",
     "output_type": "stream",
     "text": [
      "Drive already mounted at /content/drive; to attempt to forcibly remount, call drive.mount(\"/content/drive\", force_remount=True).\n"
     ]
    }
   ],
   "source": [
    "from google.colab import drive\n",
    "drive.mount('/content/drive')"
   ]
  },
  {
   "cell_type": "code",
   "execution_count": 42,
   "metadata": {
    "colab": {
     "base_uri": "https://localhost:8080/"
    },
    "id": "nN3KEGxV4rIe",
    "outputId": "6031f1c7-d21b-4d2b-ce27-4d6a5eee4884"
   },
   "outputs": [
    {
     "name": "stdout",
     "output_type": "stream",
     "text": [
      "['CM.png', 'history1_3epoch.pickle', 'history_3epoch.pickle', 'model1_3epoch.h5py', 'model1_history1_log.csv', 'model_3epoch.h5py', 'model_history1_log.csv', 'model_history_log.csv', 'signet-001.h5py', 'signet1-001.h5py', 'signet1-002.h5py', 'signet1-003.h5py', 'signet1-004.h5py', 'signet1-005.h5py', 'signet1-006.h5py', 'signet1-007.h5py', 'signet1-008.h5py', 'signet1-009.h5py', 'signet1-010.h5py', 'signet111-001.h5py', 'y_history_3epoch.pickle', 'y_pred.pickle']\n"
     ]
    }
   ],
   "source": [
    "#path_weights='/content/drive/My Drive/Colab Notebooks/weights7/'\n",
    "#path_weights = 'E:/weights'\n",
    "path_weights = 'E:/nancy/svm'\n",
    "dir_list = os.listdir(path_weights) \n",
    "print(dir_list)"
   ]
  },
  {
   "cell_type": "code",
   "execution_count": 3,
   "metadata": {
    "colab": {
     "base_uri": "https://localhost:8080/"
    },
    "id": "YQlQc1Iby_33",
    "outputId": "7540c561-f923-4406-8d94-57c85c1cf9b1"
   },
   "outputs": [
    {
     "data": {
      "text/plain": [
       "['099',\n",
       " '1',\n",
       " '10',\n",
       " '100',\n",
       " '101',\n",
       " '102',\n",
       " '103',\n",
       " '105',\n",
       " '106',\n",
       " '107',\n",
       " '108',\n",
       " '109',\n",
       " '11',\n",
       " '110',\n",
       " '111',\n",
       " '112',\n",
       " '113',\n",
       " '114',\n",
       " '115',\n",
       " '116',\n",
       " '117',\n",
       " '118',\n",
       " '119',\n",
       " '12',\n",
       " '120',\n",
       " '121',\n",
       " '124',\n",
       " '126',\n",
       " '127',\n",
       " '129',\n",
       " '13',\n",
       " '130',\n",
       " '131',\n",
       " '132',\n",
       " '133',\n",
       " '134',\n",
       " '135',\n",
       " '136',\n",
       " '137',\n",
       " '138',\n",
       " '139',\n",
       " '14',\n",
       " '140',\n",
       " '141',\n",
       " '142',\n",
       " '143',\n",
       " '144',\n",
       " '145',\n",
       " '146',\n",
       " '148',\n",
       " '149',\n",
       " '15',\n",
       " '150',\n",
       " '152',\n",
       " '153',\n",
       " '154',\n",
       " '155',\n",
       " '156',\n",
       " '157',\n",
       " '158',\n",
       " '159',\n",
       " '16',\n",
       " '160',\n",
       " '161',\n",
       " '162',\n",
       " '163',\n",
       " '164',\n",
       " '165',\n",
       " '166',\n",
       " '167',\n",
       " '168',\n",
       " '169',\n",
       " '170',\n",
       " '171',\n",
       " '172',\n",
       " '173',\n",
       " '174',\n",
       " '175',\n",
       " '176',\n",
       " '177',\n",
       " '178',\n",
       " '179',\n",
       " '18',\n",
       " '180',\n",
       " '181',\n",
       " '182',\n",
       " '183',\n",
       " '184',\n",
       " '185',\n",
       " '186',\n",
       " '187',\n",
       " '188',\n",
       " '189',\n",
       " '19',\n",
       " '190',\n",
       " '191',\n",
       " '192',\n",
       " '193',\n",
       " '194',\n",
       " '195',\n",
       " '196',\n",
       " '197',\n",
       " '198',\n",
       " '199',\n",
       " '2',\n",
       " '20',\n",
       " '200',\n",
       " '201',\n",
       " '202',\n",
       " '203',\n",
       " '204',\n",
       " '205',\n",
       " '206',\n",
       " '207',\n",
       " '208',\n",
       " '209',\n",
       " '21',\n",
       " '210',\n",
       " '211',\n",
       " '212',\n",
       " '213',\n",
       " '214',\n",
       " '215',\n",
       " '216',\n",
       " '217',\n",
       " '218',\n",
       " '219',\n",
       " '22',\n",
       " '220',\n",
       " '221',\n",
       " '222',\n",
       " '223',\n",
       " '224',\n",
       " '225',\n",
       " '226',\n",
       " '227',\n",
       " '229',\n",
       " '23',\n",
       " '230',\n",
       " '231',\n",
       " '232',\n",
       " '233',\n",
       " '234',\n",
       " '235',\n",
       " '236',\n",
       " '237',\n",
       " '238',\n",
       " '239',\n",
       " '240',\n",
       " '241',\n",
       " '242',\n",
       " '243',\n",
       " '244',\n",
       " '245',\n",
       " '246',\n",
       " '247',\n",
       " '248',\n",
       " '249',\n",
       " '25',\n",
       " '250',\n",
       " '251',\n",
       " '252',\n",
       " '254',\n",
       " '255',\n",
       " '257',\n",
       " '26',\n",
       " '260',\n",
       " '261',\n",
       " '262',\n",
       " '263',\n",
       " '264',\n",
       " '265',\n",
       " '266',\n",
       " '267',\n",
       " '268',\n",
       " '269',\n",
       " '27',\n",
       " '270',\n",
       " '271',\n",
       " '272',\n",
       " '273',\n",
       " '274',\n",
       " '275',\n",
       " '276',\n",
       " '277',\n",
       " '278',\n",
       " '279',\n",
       " '28',\n",
       " '280',\n",
       " '282',\n",
       " '283',\n",
       " '284',\n",
       " '285',\n",
       " '286',\n",
       " '287',\n",
       " '288',\n",
       " '289',\n",
       " '29',\n",
       " '290',\n",
       " '291',\n",
       " '292',\n",
       " '293',\n",
       " '294',\n",
       " '295',\n",
       " '296',\n",
       " '297',\n",
       " '298',\n",
       " '299',\n",
       " '3',\n",
       " '30',\n",
       " '300',\n",
       " '301',\n",
       " '302',\n",
       " '303',\n",
       " '304',\n",
       " '305',\n",
       " '306',\n",
       " '307',\n",
       " '308',\n",
       " '309',\n",
       " '31',\n",
       " '310',\n",
       " '311',\n",
       " '312',\n",
       " '313',\n",
       " '314',\n",
       " '315',\n",
       " '316',\n",
       " '317',\n",
       " '318',\n",
       " '319',\n",
       " '32',\n",
       " '320',\n",
       " '321',\n",
       " '322',\n",
       " '323',\n",
       " '324',\n",
       " '325',\n",
       " '326',\n",
       " '327',\n",
       " '328',\n",
       " '329',\n",
       " '33',\n",
       " '330',\n",
       " '331',\n",
       " '332',\n",
       " '333',\n",
       " '334',\n",
       " '335',\n",
       " '336',\n",
       " '337',\n",
       " '338',\n",
       " '339',\n",
       " '34',\n",
       " '340',\n",
       " '341',\n",
       " '342',\n",
       " '343',\n",
       " '344',\n",
       " '345',\n",
       " '346',\n",
       " '347',\n",
       " '348',\n",
       " '349',\n",
       " '350',\n",
       " '351',\n",
       " '352',\n",
       " '353',\n",
       " '354',\n",
       " '355',\n",
       " '356',\n",
       " '357',\n",
       " '358',\n",
       " '359',\n",
       " '36',\n",
       " '360',\n",
       " '361',\n",
       " '362',\n",
       " '363',\n",
       " '364',\n",
       " '365',\n",
       " '366',\n",
       " '367',\n",
       " '368',\n",
       " '369',\n",
       " '37',\n",
       " '370',\n",
       " '371',\n",
       " '372',\n",
       " '373',\n",
       " '374',\n",
       " '375',\n",
       " '376',\n",
       " '377',\n",
       " '378',\n",
       " '379',\n",
       " '38',\n",
       " '380',\n",
       " '381',\n",
       " '382',\n",
       " '383',\n",
       " '384',\n",
       " '385',\n",
       " '386',\n",
       " '387',\n",
       " '388',\n",
       " '389',\n",
       " '39',\n",
       " '390',\n",
       " '391',\n",
       " '392',\n",
       " '393',\n",
       " '394',\n",
       " '395',\n",
       " '396',\n",
       " '397',\n",
       " '398',\n",
       " '399',\n",
       " '4',\n",
       " '40',\n",
       " '400',\n",
       " '401',\n",
       " '402',\n",
       " '403',\n",
       " '404',\n",
       " '405',\n",
       " '406',\n",
       " '407',\n",
       " '408',\n",
       " '409',\n",
       " '410',\n",
       " '411',\n",
       " '412',\n",
       " '413',\n",
       " '414',\n",
       " '415',\n",
       " '416',\n",
       " '417',\n",
       " '418',\n",
       " '419',\n",
       " '42',\n",
       " '420',\n",
       " '421',\n",
       " '422',\n",
       " '423',\n",
       " '424',\n",
       " '425',\n",
       " '426',\n",
       " '427',\n",
       " '428',\n",
       " '429',\n",
       " '43',\n",
       " '430',\n",
       " '431',\n",
       " '432',\n",
       " '433',\n",
       " '434',\n",
       " '435',\n",
       " '436',\n",
       " '437',\n",
       " '438',\n",
       " '439',\n",
       " '44',\n",
       " '440',\n",
       " '441',\n",
       " '442',\n",
       " '443',\n",
       " '444',\n",
       " '445',\n",
       " '446',\n",
       " '447',\n",
       " '448',\n",
       " '449',\n",
       " '45',\n",
       " '450',\n",
       " '451',\n",
       " '452',\n",
       " '453',\n",
       " '454',\n",
       " '455',\n",
       " '456',\n",
       " '457',\n",
       " '458',\n",
       " '459',\n",
       " '46',\n",
       " '460',\n",
       " '461',\n",
       " '462',\n",
       " '463',\n",
       " '464',\n",
       " '465',\n",
       " '466',\n",
       " '467',\n",
       " '468',\n",
       " '469',\n",
       " '47',\n",
       " '470',\n",
       " '471',\n",
       " '472',\n",
       " '473',\n",
       " '474',\n",
       " '475',\n",
       " '476',\n",
       " '477',\n",
       " '478',\n",
       " '479',\n",
       " '48',\n",
       " '480',\n",
       " '481',\n",
       " '482',\n",
       " '483',\n",
       " '484',\n",
       " '485',\n",
       " '486',\n",
       " '487',\n",
       " '488',\n",
       " '489',\n",
       " '490',\n",
       " '491',\n",
       " '492',\n",
       " '493',\n",
       " '494',\n",
       " '495',\n",
       " '496',\n",
       " '497',\n",
       " '498',\n",
       " '499',\n",
       " '5',\n",
       " '50',\n",
       " '500',\n",
       " '501',\n",
       " '502',\n",
       " '503',\n",
       " '504',\n",
       " '505',\n",
       " '506',\n",
       " '507',\n",
       " '508',\n",
       " '509',\n",
       " '51',\n",
       " '510',\n",
       " '511',\n",
       " '512',\n",
       " '513',\n",
       " '514',\n",
       " '515',\n",
       " '516',\n",
       " '517',\n",
       " '518',\n",
       " '519',\n",
       " '52',\n",
       " '520',\n",
       " '521',\n",
       " '522',\n",
       " '523',\n",
       " '524',\n",
       " '525',\n",
       " '526',\n",
       " '527',\n",
       " '528',\n",
       " '529',\n",
       " '53',\n",
       " '530',\n",
       " '531',\n",
       " '532',\n",
       " '533',\n",
       " '534',\n",
       " '535',\n",
       " '536',\n",
       " '537',\n",
       " '538',\n",
       " '539',\n",
       " '54',\n",
       " '540',\n",
       " '541',\n",
       " '542',\n",
       " '543',\n",
       " '544',\n",
       " '545',\n",
       " '546',\n",
       " '547',\n",
       " '548',\n",
       " '549',\n",
       " '550',\n",
       " '551',\n",
       " '552',\n",
       " '553',\n",
       " '554',\n",
       " '555',\n",
       " '556',\n",
       " '557',\n",
       " '558',\n",
       " '559',\n",
       " '56',\n",
       " '560',\n",
       " '561',\n",
       " '562',\n",
       " '563',\n",
       " '564',\n",
       " '565',\n",
       " '566',\n",
       " '567',\n",
       " '568',\n",
       " '569',\n",
       " '57',\n",
       " '570',\n",
       " '571',\n",
       " '572',\n",
       " '573',\n",
       " '574',\n",
       " '575',\n",
       " '576',\n",
       " '577',\n",
       " '578',\n",
       " '579',\n",
       " '58',\n",
       " '580',\n",
       " '581',\n",
       " '582',\n",
       " '583',\n",
       " '584',\n",
       " '585',\n",
       " '586',\n",
       " '587',\n",
       " '588',\n",
       " '589',\n",
       " '59',\n",
       " '590',\n",
       " '591',\n",
       " '592',\n",
       " '593',\n",
       " '594',\n",
       " '595',\n",
       " '596',\n",
       " '597',\n",
       " '598',\n",
       " '599',\n",
       " '6',\n",
       " '60',\n",
       " '61',\n",
       " '62',\n",
       " '63',\n",
       " '64',\n",
       " '65',\n",
       " '67',\n",
       " '69',\n",
       " '70',\n",
       " '73',\n",
       " '74',\n",
       " '75',\n",
       " '76',\n",
       " '77',\n",
       " '79',\n",
       " '8',\n",
       " '80',\n",
       " '81',\n",
       " '82',\n",
       " '83',\n",
       " '84',\n",
       " '85',\n",
       " '86',\n",
       " '87',\n",
       " '88',\n",
       " '89',\n",
       " '9',\n",
       " '90',\n",
       " '91',\n",
       " '92',\n",
       " '93',\n",
       " '95',\n",
       " '96',\n",
       " '97']"
      ]
     },
     "execution_count": 3,
     "metadata": {},
     "output_type": "execute_result"
    }
   ],
   "source": [
    "path_dataset = \"/content/drive/MyDrive/final dataset1\"\n",
    "path_dataset = \"E:/Cnn dataset\"\n",
    "dir_list = next(os.walk(path_dataset))[1]\n",
    "dir_list.sort()\n",
    "dir_list"
   ]
  },
  {
   "cell_type": "markdown",
   "metadata": {
    "id": "Im7ehgvsLy6i"
   },
   "source": [
    "PREPROCESSING"
   ]
  },
  {
   "cell_type": "code",
   "execution_count": 4,
   "metadata": {
    "id": "ry-bJNpu0KKL"
   },
   "outputs": [],
   "source": [
    "def preprocess(image):\n",
    "    clean = remove_background(image)\n",
    "    roi = extract_signature(clean)\n",
    "    th,res= cv2.threshold(roi, 0, 255, cv2.THRESH_BINARY + cv2.THRESH_OTSU)\n",
    "    \n",
    "    # r = ndimage.rotate(res, -(90-math.degrees(math.atan(res.shape[1]/res.shape[0]))))\n",
    "    # angle = 90-math.degrees(math.atan(res.shape[1]/res.shape[0]))\n",
    "    # if angle > 20:\n",
    "    #     res = rotate_image(res, -(angle if angle>20 else 0))\n",
    "   \n",
    "    return res\n",
    "\n",
    "def rotate_image(image, angle):\n",
    "  rot_mat = cv2.getRotationMatrix2D((image.shape[0]/2+40,image.shape[1]/2+40), angle, 1.0)\n",
    "  result = cv2.warpAffine(image, rot_mat, (int(math.sqrt(image.shape[0]*image.shape[0]+image.shape[1]*image.shape[1])),int(image.shape[1])), flags=cv2.INTER_LINEAR,borderValue=(255,255,255))\n",
    "  return result\n",
    "\n",
    "\n",
    "\n",
    "def extract_signature(image):\n",
    "    result = image.copy()\n",
    "    img = image.copy()\n",
    "    ret, mask = cv2.threshold(img, 0, 255, cv2.THRESH_BINARY_INV + cv2.THRESH_OTSU)\n",
    "        \n",
    "    kernel = cv2.getStructuringElement(cv2.MORPH_RECT, (3,3))\n",
    "    # opening = cv2.morphologyEx(mask, cv2.MORPH_OPEN, kernel)\n",
    "    closing = cv2.morphologyEx(mask, cv2.MORPH_CLOSE, kernel)\n",
    "    \n",
    "    cnts,hi = cv2.findContours(closing.astype(np.uint8), cv2.RETR_EXTERNAL, cv2.CHAIN_APPROX_SIMPLE)\n",
    "    \n",
    "    boxes = []\n",
    "    for c in cnts:\n",
    "        (x, y, w, h) = cv2.boundingRect(c)\n",
    "        boxes.append([x,y, x+w,y+h])\n",
    "    \n",
    "    boxes = np.asarray(boxes)\n",
    "    left = np.min(boxes[:,0])\n",
    "    top = np.min(boxes[:,1])\n",
    "    right = np.max(boxes[:,2])\n",
    "    bottom = np.max(boxes[:,3])\n",
    "    \n",
    "    result[closing==0] = (255)\n",
    "    ROI = result[top:bottom, left:right].copy()\n",
    "    cv2.rectangle(result, (left,top), (right,bottom), (36, 255, 12), 2)\n",
    "    \n",
    "    # cv2.imshow('result', result)\n",
    "    # cv2.imshow('ROI', ROI)\n",
    "    # cv2.imshow('Mask', mask)\n",
    "    # cv2.imshow('closing',closing)\n",
    "\n",
    "    cv2.waitKey()\n",
    "    \n",
    "    return ROI\n",
    "\n",
    "\n",
    "def remove_background(img):\n",
    "        \"\"\" Remove noise using OTSU's method.\n",
    "\n",
    "        :param img: The image to be processed\n",
    "        :return: The normalized image\n",
    "        \"\"\"\n",
    "        img = img.astype(np.uint8)\n",
    "        # Binarize the image using OTSU's algorithm. This is used to find the center\n",
    "        # of mass of the image, and find the threshold to remove background noise\n",
    "    \n",
    "        threshold, _ = cv2.threshold(img, 0, 255, cv2.THRESH_BINARY + cv2.THRESH_OTSU)\n",
    "        # Remove noise - anything higher than the threshold. Note that the image is still grayscale\n",
    "        img[img > threshold] = 255\n",
    "\n",
    "        return img\n"
   ]
  },
  {
   "cell_type": "code",
   "execution_count": 5,
   "metadata": {
    "id": "n9dSi9fCNkTf"
   },
   "outputs": [],
   "source": [
    "from sklearn.preprocessing import LabelEncoder \n",
    "from keras.models import model_from_json "
   ]
  },
  {
   "cell_type": "code",
   "execution_count": null,
   "metadata": {
    "id": "oPe2CnTp0dXE"
   },
   "outputs": [],
   "source": [
    "def remove_background(img):\n",
    "    # Remove noise using gaussian filter and OTSU's method.\n",
    "\n",
    "\n",
    "    # Gaussian filter for removing small components\n",
    "    blur_radius = 2\n",
    "    blurred_image = ndimage.gaussian_filter(img, blur_radius)\n",
    "\n",
    "    # Binarize the image using OTSU's algorithm. This is used to find the center\n",
    "    # of mass of the image, and find the threshold to remove background noise\n",
    "    th, bin_image = cv2.threshold(blurred_image, 0, 255, cv2.THRESH_BINARY + cv2.THRESH_OTSU)\n",
    "    \n",
    "    return th, bin_image"
   ]
  },
  {
   "cell_type": "code",
   "execution_count": null,
   "metadata": {
    "id": "JmNGpY4u0iPh"
   },
   "outputs": [],
   "source": [
    "def extract_signature(img, bin_image,img_w,img_h):\n",
    "    # Find the center of mass\n",
    "    x, y = np.where(bin_image == 0)\n",
    "    x_center = int(x.mean() - x.min())\n",
    "    y_center = int(y.mean() - y.min())\n",
    "\n",
    "    # Crop the image with a tight box\n",
    "    cropped = img[x.min(): x.max(), y.min(): y.max()]\n",
    "    # cv2.imshow('cropped', cropped)\n",
    "    \n",
    "    # Center the image\n",
    "    img_x, img_y = cropped.shape\n",
    "\n",
    "    x_start = img_w // 2 - x_center\n",
    "    y_start = img_h // 2 - y_center\n",
    "    extra_x = (x_start + img_x) - img_w\n",
    "    if extra_x > 0:\n",
    "        x_start -= extra_x\n",
    "    if x_start < 0:\n",
    "        x_start = 0\n",
    "    extra_y = (y_start + img_y) - img_h\n",
    "    if extra_y > 0:\n",
    "        y_start -= extra_y\n",
    "    if y_start < 0:\n",
    "        y_start = 0\n",
    "        \n",
    "    \n",
    "    return x_start, y_start, img_x, img_y, cropped"
   ]
  },
  {
   "cell_type": "code",
   "execution_count": 6,
   "metadata": {
    "id": "vxUGE6Ui0m7Y"
   },
   "outputs": [],
   "source": [
    "def resize_image(image, new_size,):\n",
    "    height, width = new_size\n",
    "\n",
    "    # Check which dimension needs to be cropped\n",
    "    # (assuming the new height-width ratio may not match the original size)\n",
    "    width_ratio = float(image.shape[1]) / width\n",
    "    height_ratio = float(image.shape[0]) / height\n",
    "    if width_ratio > height_ratio:\n",
    "        resize_height = height\n",
    "        resize_width = int(round(image.shape[1] / height_ratio))\n",
    "    else:\n",
    "        resize_width = width\n",
    "        resize_height = int(round(image.shape[0] / width_ratio))\n",
    "\n",
    "    # Resize the image\n",
    "    image = cv2.resize(image.astype(np.float32), (resize_width,resize_height), interpolation=cv2.INTER_LINEAR)\n",
    "\n",
    "    # Crop to exactly the desired new_size, using the middle of the image:\n",
    "    if width_ratio > height_ratio:\n",
    "        start = int(round((resize_width-width)/2.0))\n",
    "        return image[:, start:start+width]\n",
    "    else:\n",
    "        start = int(round((resize_height-height)/2.0))\n",
    "        return image[start:start+height, :]\n",
    "def crop_center(img, input_shape):\n",
    "    img_shape = img.shape\n",
    "    start_y = (img_shape[0] - input_shape[0]) // 2\n",
    "    start_x = (img_shape[1] - input_shape[1]) // 2\n",
    "    cropped = img[start_y: start_y + input_shape[0], start_x:start_x + input_shape[1]]\n",
    "    return cropped"
   ]
  },
  {
   "cell_type": "code",
   "execution_count": 7,
   "metadata": {
    "id": "m5tyVuu90s2O"
   },
   "outputs": [],
   "source": [
    "orig_groups, forg_groups = [], []\n",
    "for directory in dir_list:\n",
    "    images = os.listdir(path_dataset+ '/' +directory)\n",
    "    images.sort()\n",
    "    images = [path_dataset+'/' +directory+'/'+x for x in images]\n",
    "    forg_groups.append(images[:15])\n",
    "    orig_groups.append(images[15:])"
   ]
  },
  {
   "cell_type": "code",
   "execution_count": 8,
   "metadata": {
    "id": "gm0WovN75Nxj"
   },
   "outputs": [],
   "source": [
    "# prints 1 1 if length of each group is same\n",
    "def sanity_check():\n",
    "    orig_lengths = [len(x) for x in orig_groups]\n",
    "    forg_lengths = [len(x) for x in forg_groups]\n",
    "    f_original=0\n",
    "    for i in range(0,len(orig_lengths)):\n",
    "        for j in range(i+1,len(orig_lengths)):\n",
    "                   if orig_lengths[i]==orig_lengths[j]:\n",
    "                       f_original=1\n",
    "    f_forged=0\n",
    "    for i in range(0,len(forg_lengths)):\n",
    "        for j in range(i+1,len(forg_lengths)):\n",
    "                   if forg_lengths[i]==forg_lengths[j]:\n",
    "                       f_forged=1\n",
    "    print(f_original)\n",
    "    print(f_forged)"
   ]
  },
  {
   "cell_type": "code",
   "execution_count": 9,
   "metadata": {
    "colab": {
     "base_uri": "https://localhost:8080/"
    },
    "id": "Q8AlnVYD5RO-",
    "outputId": "c99b0a88-c5c0-44b8-b28c-69a45a505076"
   },
   "outputs": [
    {
     "name": "stdout",
     "output_type": "stream",
     "text": [
      "1\n",
      "1\n"
     ]
    }
   ],
   "source": [
    "sanity_check()"
   ]
  },
  {
   "cell_type": "code",
   "execution_count": 11,
   "metadata": {
    "id": "sfDKUzQt5VZX"
   },
   "outputs": [],
   "source": [
    "orig_train, orig_val, orig_test = orig_groups[:400], orig_groups[400:486], orig_groups[486:]\n",
    "forg_train, forg_val, forg_test = forg_groups[:400], forg_groups[400:486], forg_groups[486:]"
   ]
  },
  {
   "cell_type": "code",
   "execution_count": 12,
   "metadata": {
    "id": "K_G1kL8x5Ynr"
   },
   "outputs": [],
   "source": [
    "img_h, img_w = 155, 220"
   ]
  },
  {
   "cell_type": "code",
   "execution_count": 13,
   "metadata": {
    "id": "E9dcmrEF5bWA"
   },
   "outputs": [],
   "source": [
    "def generate_batch(orig_groups, forg_groups, batch_size = 32):\n",
    "    while True:\n",
    "        orig_pairs = []\n",
    "        forg_pairs = []\n",
    "        gen_gen_labels = []\n",
    "        gen_for_labels = []\n",
    "        all_pairs = []\n",
    "        all_labels = []\n",
    "        \n",
    "        # Here we create pairs of Genuine-Genuine image names and Genuine-Forged image names\n",
    "        # For every person we have 12 genuine signatures in a group, hence we have \n",
    "        # 12 choose 2 = 66 Genuine-Genuine image pairs for one person.\n",
    "        # To make Genuine-Forged pairs, we pair every Genuine signature of a person\n",
    "        # with 6 randomly sampled Forged signatures of the same person.\n",
    "\n",
    "        \n",
    "        for orig, forg in zip(orig_groups, forg_groups):\n",
    "            orig_pairs.extend(list(itertools.combinations(orig, 2)))\n",
    "            for i in range(len(forg)):\n",
    "                forg_pairs.extend(list(itertools.product(orig[i:i+1], random.sample(forg, 6)))) #6 for 6 samples random\n",
    "        \n",
    "        # Label for Genuine-Genuine pairs is 1\n",
    "        # Label for Genuine-Forged pairs is 0\n",
    "        gen_gen_labels = [1]*len(orig_pairs)\n",
    "        gen_for_labels = [0]*len(forg_pairs)\n",
    "        \n",
    "        # Concatenate all the pairs together along with their labels and shuffle them\n",
    "        all_pairs = orig_pairs + forg_pairs\n",
    "        all_labels = gen_gen_labels + gen_for_labels\n",
    "        del orig_pairs, forg_pairs, gen_gen_labels, gen_for_labels\n",
    "        all_pairs, all_labels = shuffle(all_pairs, all_labels)\n",
    "\n",
    "        k = 0\n",
    "        pairs=[np.zeros((batch_size, img_h, img_w, 1)) for i in range(2)]\n",
    "        targets=np.zeros((batch_size,))\n",
    "        for ix, pair in enumerate(all_pairs):\n",
    "            img1 = cv2.imread(pair[0], 0)\n",
    "            img2 = cv2.imread(pair[1], 0)\n",
    "            # img1 = preprocess(img1)\n",
    "            # img2 = preprocess(img2)\n",
    "            img1 = cv2.resize(img1, (img_w, img_h))\n",
    "            img2 = cv2.resize(img2, (img_w, img_h))\n",
    "            img1 = np.array(img1, dtype = np.float64)\n",
    "            img2 = np.array(img2, dtype = np.float64)\n",
    "            img1 /= 255\n",
    "            img2 /= 255\n",
    "            img1 = img1[..., np.newaxis]\n",
    "            img2 = img2[..., np.newaxis]\n",
    "            pairs[0][k, :, :, :] = img1\n",
    "            pairs[1][k, :, :, :] = img2\n",
    "            targets[k] = all_labels[ix]\n",
    "            k += 1\n",
    "            if k == batch_size:\n",
    "                yield pairs, targets\n",
    "                k = 0\n",
    "                pairs=[np.zeros((batch_size, img_h, img_w, 1)) for i in range(2)]\n",
    "                targets=np.zeros((batch_size,))"
   ]
  },
  {
   "cell_type": "code",
   "execution_count": 14,
   "metadata": {
    "id": "-Us2FI-f5hEP"
   },
   "outputs": [],
   "source": [
    "# from sklearn.metrics.pairwise import cosine_similarity\n",
    "# cosine_similarity([[1, 0, -1]], [[-1,-1, 0]])\n",
    "\n",
    "def euclidean_distance(vects):\n",
    "    '''Compute Euclidean Distance between two vectors'''\n",
    "    x, y = vects\n",
    "    return K.sqrt(K.sum(K.square(x - y), axis=1, keepdims=True))"
   ]
  },
  {
   "cell_type": "code",
   "execution_count": 15,
   "metadata": {
    "id": "pwGJg4_75nLc"
   },
   "outputs": [],
   "source": [
    "def eucl_dist_output_shape(shapes):\n",
    "    shape1, shape2 = shapes\n",
    "    return (shape1[0], 1)"
   ]
  },
  {
   "cell_type": "code",
   "execution_count": 16,
   "metadata": {
    "id": "vXSImMvy5psW"
   },
   "outputs": [],
   "source": [
    "def contrastive_loss(y_true, y_pred):\n",
    "    '''Contrastive loss from Hadsell-et-al.'06\n",
    "    http://yann.lecun.com/exdb/publis/pdf/hadsell-chopra-lecun-06.pdf\n",
    "    '''\n",
    "    margin = 1\n",
    "    return K.mean(y_true * K.square(y_pred) + (1 - y_true) * K.square(K.maximum(margin - y_pred, 0)))"
   ]
  },
  {
   "cell_type": "code",
   "execution_count": 17,
   "metadata": {
    "id": "TkjYx8xL5srQ"
   },
   "outputs": [],
   "source": [
    "def network_architecture(input_shape):\n",
    "\n",
    "    model = Sequential()\n",
    "    model.add(Conv2D(96, kernel_size=(11, 11), activation='relu', name='conv1_1', strides=4, input_shape= input_shape, \n",
    "                        kernel_initializer='glorot_uniform', data_format='channels_last'))\n",
    "\n",
    "    model.add(BatchNormalization(epsilon=1e-06, axis=1, momentum=0.9))\n",
    "    model.add(MaxPooling2D((3,3), strides=(2, 2)))    \n",
    "    model.add(ZeroPadding2D((2, 2), data_format='channels_last'))\n",
    "    \n",
    "    model.add(Conv2D(256, kernel_size=(5, 5), activation='relu', name='conv2_1', strides=1, kernel_initializer='glorot_uniform', data_format='channels_last'))\n",
    "    model.add(BatchNormalization(epsilon=1e-06, axis=1, momentum=0.9))\n",
    "    model.add(MaxPooling2D((3,3), strides=(2, 2)))\n",
    "    model.add(Dropout(0.3))# added extra\n",
    "    model.add(ZeroPadding2D((1, 1), data_format='channels_last'))\n",
    "    \n",
    "    model.add(Conv2D(384, kernel_size=(3, 3), activation='relu', name='conv3_1', strides=1, kernel_initializer='glorot_uniform', data_format='channels_last'))\n",
    "    model.add(ZeroPadding2D((1, 1), data_format='channels_last'))\n",
    "    \n",
    "    model.add(Conv2D(256, kernel_size=(3, 3), activation='relu', name='conv3_2', strides=1, kernel_initializer='glorot_uniform', data_format='channels_last'))    \n",
    "    model.add(MaxPooling2D((3,3), strides=(2, 2)))\n",
    "    model.add(Dropout(0.3))# added extra\n",
    "    \n",
    "    model.add(Flatten(name='flatten'))\n",
    "\n",
    "    model.add(Dense(1024, bias_regularizer=l2(0.0005), activation='relu', kernel_initializer='glorot_uniform'))\n",
    "    model.add(Dropout(0.5))\n",
    "    \n",
    "    model.add(Dense(128, bias_regularizer=l2(0.0005), activation='relu', kernel_initializer='glorot_uniform')) # softmax changed to relu\n",
    "    \n",
    "    return model"
   ]
  },
  {
   "cell_type": "code",
   "execution_count": 18,
   "metadata": {
    "id": "s4pY-qmZ5woK"
   },
   "outputs": [],
   "source": [
    "input_shape=(img_h, img_w, 1)"
   ]
  },
  {
   "cell_type": "code",
   "execution_count": 19,
   "metadata": {
    "id": "bzZMwxhm5zeZ"
   },
   "outputs": [],
   "source": [
    "# network definition\n",
    "base_network = network_architecture(input_shape)\n",
    "input_a = Input(shape=(input_shape))\n",
    "input_b = Input(shape=(input_shape))\n",
    "# because we re-use the same instance `base_network`,\n",
    "# the weights of the network\n",
    "# will be shared across the two branches\n",
    "processed_a = base_network(input_a)\n",
    "processed_b = base_network(input_b)\n",
    "# Compute the Euclidean distance between the two vectors in the latent space\n",
    "distance = Lambda(euclidean_distance, output_shape=eucl_dist_output_shape)([processed_a, processed_b])\n",
    "model = Model([input_a, input_b], distance)"
   ]
  },
  {
   "cell_type": "code",
   "execution_count": 20,
   "metadata": {
    "colab": {
     "base_uri": "https://localhost:8080/"
    },
    "id": "t7qyddj352rx",
    "outputId": "42a90b73-fd6a-4cc4-8a2f-59794e49b417"
   },
   "outputs": [
    {
     "name": "stdout",
     "output_type": "stream",
     "text": [
      "Model: \"model\"\n",
      "__________________________________________________________________________________________________\n",
      "Layer (type)                    Output Shape         Param #     Connected to                     \n",
      "==================================================================================================\n",
      "input_1 (InputLayer)            [(None, 155, 220, 1) 0                                            \n",
      "__________________________________________________________________________________________________\n",
      "input_2 (InputLayer)            [(None, 155, 220, 1) 0                                            \n",
      "__________________________________________________________________________________________________\n",
      "sequential (Sequential)         (None, 128)          6461084     input_1[0][0]                    \n",
      "                                                                 input_2[0][0]                    \n",
      "__________________________________________________________________________________________________\n",
      "lambda (Lambda)                 (None, 1)            0           sequential[0][0]                 \n",
      "                                                                 sequential[1][0]                 \n",
      "==================================================================================================\n",
      "Total params: 6,461,084\n",
      "Trainable params: 6,460,974\n",
      "Non-trainable params: 110\n",
      "__________________________________________________________________________________________________\n"
     ]
    }
   ],
   "source": [
    "model.summary()"
   ]
  },
  {
   "cell_type": "code",
   "execution_count": 21,
   "metadata": {
    "colab": {
     "base_uri": "https://localhost:8080/"
    },
    "id": "CwCCd2kf546e",
    "outputId": "a7eb1e15-3f43-43b8-e50a-ba8a59e52767"
   },
   "outputs": [
    {
     "name": "stdout",
     "output_type": "stream",
     "text": [
      "Model: \"sequential\"\n",
      "_________________________________________________________________\n",
      "Layer (type)                 Output Shape              Param #   \n",
      "=================================================================\n",
      "conv1_1 (Conv2D)             (None, 37, 53, 96)        11712     \n",
      "_________________________________________________________________\n",
      "module_wrapper (ModuleWrappe (None, 37, 53, 96)        148       \n",
      "_________________________________________________________________\n",
      "max_pooling2d (MaxPooling2D) (None, 18, 26, 96)        0         \n",
      "_________________________________________________________________\n",
      "zero_padding2d (ZeroPadding2 (None, 22, 30, 96)        0         \n",
      "_________________________________________________________________\n",
      "conv2_1 (Conv2D)             (None, 18, 26, 256)       614656    \n",
      "_________________________________________________________________\n",
      "module_wrapper_1 (ModuleWrap (None, 18, 26, 256)       72        \n",
      "_________________________________________________________________\n",
      "max_pooling2d_1 (MaxPooling2 (None, 8, 12, 256)        0         \n",
      "_________________________________________________________________\n",
      "dropout (Dropout)            (None, 8, 12, 256)        0         \n",
      "_________________________________________________________________\n",
      "zero_padding2d_1 (ZeroPaddin (None, 10, 14, 256)       0         \n",
      "_________________________________________________________________\n",
      "conv3_1 (Conv2D)             (None, 8, 12, 384)        885120    \n",
      "_________________________________________________________________\n",
      "zero_padding2d_2 (ZeroPaddin (None, 10, 14, 384)       0         \n",
      "_________________________________________________________________\n",
      "conv3_2 (Conv2D)             (None, 8, 12, 256)        884992    \n",
      "_________________________________________________________________\n",
      "max_pooling2d_2 (MaxPooling2 (None, 3, 5, 256)         0         \n",
      "_________________________________________________________________\n",
      "dropout_1 (Dropout)          (None, 3, 5, 256)         0         \n",
      "_________________________________________________________________\n",
      "flatten (Flatten)            (None, 3840)              0         \n",
      "_________________________________________________________________\n",
      "dense (Dense)                (None, 1024)              3933184   \n",
      "_________________________________________________________________\n",
      "dropout_2 (Dropout)          (None, 1024)              0         \n",
      "_________________________________________________________________\n",
      "dense_1 (Dense)              (None, 128)               131200    \n",
      "=================================================================\n",
      "Total params: 6,461,084\n",
      "Trainable params: 6,460,974\n",
      "Non-trainable params: 110\n",
      "_________________________________________________________________\n"
     ]
    }
   ],
   "source": [
    "base_network.summary()"
   ]
  },
  {
   "cell_type": "code",
   "execution_count": 23,
   "metadata": {
    "colab": {
     "base_uri": "https://localhost:8080/"
    },
    "id": "SEmqr3m058C-",
    "outputId": "46151a52-7ce4-4a48-87bc-dea7436edfbd"
   },
   "outputs": [
    {
     "data": {
      "text/plain": [
       "(90000, 19350, 19350)"
      ]
     },
     "execution_count": 23,
     "metadata": {},
     "output_type": "execute_result"
    }
   ],
   "source": [
    "batch_sz = 100\n",
    "num_train_samples = 105*len(orig_train) + 120*len(orig_train)\n",
    "num_val_samples = num_test_samples = 105*len(orig_val) + 120*len(orig_val)\n",
    "num_train_samples, num_val_samples, num_test_samples"
   ]
  },
  {
   "cell_type": "code",
   "execution_count": 28,
   "metadata": {
    "id": "RvkfcuRN5_g9"
   },
   "outputs": [],
   "source": [
    "# compile model using RMSProp Optimizer and Contrastive loss function defined above\n",
    "#adam = Adam(learning_rate=1e-4)\n",
    "#model.compile(loss=contrastive_loss, optimizer=rms, metrics=['acc'])\n",
    "adam = Adam(lr=1e-6)\n",
    "model.compile(loss = \"binary_crossentropy\", optimizer='adam', metrics=[\"accuracy\"])"
   ]
  },
  {
   "cell_type": "code",
   "execution_count": 32,
   "metadata": {
    "id": "-opUWKVa6DPo"
   },
   "outputs": [],
   "source": [
    "# Using Keras Callbacks, save the model after every epoch\n",
    "# Reduce the learning rate by a factor of 0.1 if the validation loss does not improve for 5 epochs\n",
    "# Stop the training using early stopping if the validation loss does not improve for 12 epochs\n",
    "callbacks = [\n",
    "    EarlyStopping(patience=12, verbose=1),\n",
    "    ReduceLROnPlateau(factor=0.1, patience=5, min_lr=0.000001, verbose=1),\n",
    "    ModelCheckpoint('E:/weights/signet-Engsig61-{epoch:03d}.h5py', monitor='val_loss', verbose=1,save_best_only=True,save_weights_only=True,mode='min')\n",
    "] #260-{epoch:03d}"
   ]
  },
  {
   "cell_type": "code",
   "execution_count": 39,
   "metadata": {},
   "outputs": [],
   "source": [
    "callbacks = [\n",
    "  EarlyStopping(patience=15, restore_best_weights=True),\n",
    "  CSVLogger(r\"E:/nancy/svm/model_history_log.csv\", append=True),\n",
    "  # ReduceLROnPlateau(factor=0.1, patience=5, min_lr=0.000001),\n",
    "  ModelCheckpoint(r\"E:/nancy/svm/signet-{epoch:003d}.h5py\"),\n",
    "  # ModelCheckpoint(r\"/content/drive/MyDrive/graduation project (ML)/model_5/signet_Best_Model.h5\", save_best_only=True)\n",
    "]"
   ]
  },
  {
   "cell_type": "code",
   "execution_count": 41,
   "metadata": {
    "id": "hYKqte0A6ItJ"
   },
   "outputs": [
    {
     "name": "stdout",
     "output_type": "stream",
     "text": [
      "Epoch 1/5\n",
      "900/900 [==============================] - 2206s 2s/step - loss: 11.3522 - accuracy: 0.2556 - val_loss: 1.1951 - val_accuracy: 0.2772\n",
      "INFO:tensorflow:Assets written to: E:/nancy/svm\\signet-001.h5py\\assets\n",
      "Epoch 2/5\n",
      "165/900 [====>.........................] - ETA: 28:04 - loss: 11.3547 - accuracy: 0.2554"
     ]
    },
    {
     "ename": "KeyboardInterrupt",
     "evalue": "",
     "output_type": "error",
     "traceback": [
      "\u001b[1;31m---------------------------------------------------------------------------\u001b[0m",
      "\u001b[1;31mKeyboardInterrupt\u001b[0m                         Traceback (most recent call last)",
      "\u001b[1;32m~\\AppData\\Local\\Temp\\ipykernel_13156\\2393833892.py\u001b[0m in \u001b[0;36m<module>\u001b[1;34m\u001b[0m\n\u001b[0;32m      4\u001b[0m                               \u001b[0mvalidation_data\u001b[0m \u001b[1;33m=\u001b[0m \u001b[0mgenerate_batch\u001b[0m\u001b[1;33m(\u001b[0m\u001b[0morig_val\u001b[0m\u001b[1;33m,\u001b[0m \u001b[0mforg_val\u001b[0m\u001b[1;33m,\u001b[0m \u001b[0mbatch_sz\u001b[0m\u001b[1;33m)\u001b[0m\u001b[1;33m,\u001b[0m\u001b[1;33m\u001b[0m\u001b[1;33m\u001b[0m\u001b[0m\n\u001b[0;32m      5\u001b[0m                               \u001b[0mvalidation_steps\u001b[0m \u001b[1;33m=\u001b[0m \u001b[0mnum_val_samples\u001b[0m\u001b[1;33m//\u001b[0m\u001b[0mbatch_sz\u001b[0m\u001b[1;33m,\u001b[0m\u001b[1;33m\u001b[0m\u001b[1;33m\u001b[0m\u001b[0m\n\u001b[1;32m----> 6\u001b[1;33m                               callbacks = callbacks)\n\u001b[0m",
      "\u001b[1;32m~\\.conda\\envs\\tf\\lib\\site-packages\\keras\\engine\\training.py\u001b[0m in \u001b[0;36mfit\u001b[1;34m(self, x, y, batch_size, epochs, verbose, callbacks, validation_split, validation_data, shuffle, class_weight, sample_weight, initial_epoch, steps_per_epoch, validation_steps, validation_batch_size, validation_freq, max_queue_size, workers, use_multiprocessing)\u001b[0m\n\u001b[0;32m   1156\u001b[0m                 _r=1):\n\u001b[0;32m   1157\u001b[0m               \u001b[0mcallbacks\u001b[0m\u001b[1;33m.\u001b[0m\u001b[0mon_train_batch_begin\u001b[0m\u001b[1;33m(\u001b[0m\u001b[0mstep\u001b[0m\u001b[1;33m)\u001b[0m\u001b[1;33m\u001b[0m\u001b[1;33m\u001b[0m\u001b[0m\n\u001b[1;32m-> 1158\u001b[1;33m               \u001b[0mtmp_logs\u001b[0m \u001b[1;33m=\u001b[0m \u001b[0mself\u001b[0m\u001b[1;33m.\u001b[0m\u001b[0mtrain_function\u001b[0m\u001b[1;33m(\u001b[0m\u001b[0miterator\u001b[0m\u001b[1;33m)\u001b[0m\u001b[1;33m\u001b[0m\u001b[1;33m\u001b[0m\u001b[0m\n\u001b[0m\u001b[0;32m   1159\u001b[0m               \u001b[1;32mif\u001b[0m \u001b[0mdata_handler\u001b[0m\u001b[1;33m.\u001b[0m\u001b[0mshould_sync\u001b[0m\u001b[1;33m:\u001b[0m\u001b[1;33m\u001b[0m\u001b[1;33m\u001b[0m\u001b[0m\n\u001b[0;32m   1160\u001b[0m                 \u001b[0mcontext\u001b[0m\u001b[1;33m.\u001b[0m\u001b[0masync_wait\u001b[0m\u001b[1;33m(\u001b[0m\u001b[1;33m)\u001b[0m\u001b[1;33m\u001b[0m\u001b[1;33m\u001b[0m\u001b[0m\n",
      "\u001b[1;32m~\\.conda\\envs\\tf\\lib\\site-packages\\tensorflow\\python\\eager\\def_function.py\u001b[0m in \u001b[0;36m__call__\u001b[1;34m(self, *args, **kwds)\u001b[0m\n\u001b[0;32m    887\u001b[0m \u001b[1;33m\u001b[0m\u001b[0m\n\u001b[0;32m    888\u001b[0m       \u001b[1;32mwith\u001b[0m \u001b[0mOptionalXlaContext\u001b[0m\u001b[1;33m(\u001b[0m\u001b[0mself\u001b[0m\u001b[1;33m.\u001b[0m\u001b[0m_jit_compile\u001b[0m\u001b[1;33m)\u001b[0m\u001b[1;33m:\u001b[0m\u001b[1;33m\u001b[0m\u001b[1;33m\u001b[0m\u001b[0m\n\u001b[1;32m--> 889\u001b[1;33m         \u001b[0mresult\u001b[0m \u001b[1;33m=\u001b[0m \u001b[0mself\u001b[0m\u001b[1;33m.\u001b[0m\u001b[0m_call\u001b[0m\u001b[1;33m(\u001b[0m\u001b[1;33m*\u001b[0m\u001b[0margs\u001b[0m\u001b[1;33m,\u001b[0m \u001b[1;33m**\u001b[0m\u001b[0mkwds\u001b[0m\u001b[1;33m)\u001b[0m\u001b[1;33m\u001b[0m\u001b[1;33m\u001b[0m\u001b[0m\n\u001b[0m\u001b[0;32m    890\u001b[0m \u001b[1;33m\u001b[0m\u001b[0m\n\u001b[0;32m    891\u001b[0m       \u001b[0mnew_tracing_count\u001b[0m \u001b[1;33m=\u001b[0m \u001b[0mself\u001b[0m\u001b[1;33m.\u001b[0m\u001b[0mexperimental_get_tracing_count\u001b[0m\u001b[1;33m(\u001b[0m\u001b[1;33m)\u001b[0m\u001b[1;33m\u001b[0m\u001b[1;33m\u001b[0m\u001b[0m\n",
      "\u001b[1;32m~\\.conda\\envs\\tf\\lib\\site-packages\\tensorflow\\python\\eager\\def_function.py\u001b[0m in \u001b[0;36m_call\u001b[1;34m(self, *args, **kwds)\u001b[0m\n\u001b[0;32m    915\u001b[0m       \u001b[1;31m# In this case we have created variables on the first call, so we run the\u001b[0m\u001b[1;33m\u001b[0m\u001b[1;33m\u001b[0m\u001b[1;33m\u001b[0m\u001b[0m\n\u001b[0;32m    916\u001b[0m       \u001b[1;31m# defunned version which is guaranteed to never create variables.\u001b[0m\u001b[1;33m\u001b[0m\u001b[1;33m\u001b[0m\u001b[1;33m\u001b[0m\u001b[0m\n\u001b[1;32m--> 917\u001b[1;33m       \u001b[1;32mreturn\u001b[0m \u001b[0mself\u001b[0m\u001b[1;33m.\u001b[0m\u001b[0m_stateless_fn\u001b[0m\u001b[1;33m(\u001b[0m\u001b[1;33m*\u001b[0m\u001b[0margs\u001b[0m\u001b[1;33m,\u001b[0m \u001b[1;33m**\u001b[0m\u001b[0mkwds\u001b[0m\u001b[1;33m)\u001b[0m  \u001b[1;31m# pylint: disable=not-callable\u001b[0m\u001b[1;33m\u001b[0m\u001b[1;33m\u001b[0m\u001b[0m\n\u001b[0m\u001b[0;32m    918\u001b[0m     \u001b[1;32melif\u001b[0m \u001b[0mself\u001b[0m\u001b[1;33m.\u001b[0m\u001b[0m_stateful_fn\u001b[0m \u001b[1;32mis\u001b[0m \u001b[1;32mnot\u001b[0m \u001b[1;32mNone\u001b[0m\u001b[1;33m:\u001b[0m\u001b[1;33m\u001b[0m\u001b[1;33m\u001b[0m\u001b[0m\n\u001b[0;32m    919\u001b[0m       \u001b[1;31m# Release the lock early so that multiple threads can perform the call\u001b[0m\u001b[1;33m\u001b[0m\u001b[1;33m\u001b[0m\u001b[1;33m\u001b[0m\u001b[0m\n",
      "\u001b[1;32m~\\.conda\\envs\\tf\\lib\\site-packages\\tensorflow\\python\\eager\\function.py\u001b[0m in \u001b[0;36m__call__\u001b[1;34m(self, *args, **kwargs)\u001b[0m\n\u001b[0;32m   3022\u001b[0m        filtered_flat_args) = self._maybe_define_function(args, kwargs)\n\u001b[0;32m   3023\u001b[0m     return graph_function._call_flat(\n\u001b[1;32m-> 3024\u001b[1;33m         filtered_flat_args, captured_inputs=graph_function.captured_inputs)  # pylint: disable=protected-access\n\u001b[0m\u001b[0;32m   3025\u001b[0m \u001b[1;33m\u001b[0m\u001b[0m\n\u001b[0;32m   3026\u001b[0m   \u001b[1;33m@\u001b[0m\u001b[0mproperty\u001b[0m\u001b[1;33m\u001b[0m\u001b[1;33m\u001b[0m\u001b[0m\n",
      "\u001b[1;32m~\\.conda\\envs\\tf\\lib\\site-packages\\tensorflow\\python\\eager\\function.py\u001b[0m in \u001b[0;36m_call_flat\u001b[1;34m(self, args, captured_inputs, cancellation_manager)\u001b[0m\n\u001b[0;32m   1959\u001b[0m       \u001b[1;31m# No tape is watching; skip to running the function.\u001b[0m\u001b[1;33m\u001b[0m\u001b[1;33m\u001b[0m\u001b[1;33m\u001b[0m\u001b[0m\n\u001b[0;32m   1960\u001b[0m       return self._build_call_outputs(self._inference_function.call(\n\u001b[1;32m-> 1961\u001b[1;33m           ctx, args, cancellation_manager=cancellation_manager))\n\u001b[0m\u001b[0;32m   1962\u001b[0m     forward_backward = self._select_forward_and_backward_functions(\n\u001b[0;32m   1963\u001b[0m         \u001b[0margs\u001b[0m\u001b[1;33m,\u001b[0m\u001b[1;33m\u001b[0m\u001b[1;33m\u001b[0m\u001b[0m\n",
      "\u001b[1;32m~\\.conda\\envs\\tf\\lib\\site-packages\\tensorflow\\python\\eager\\function.py\u001b[0m in \u001b[0;36mcall\u001b[1;34m(self, ctx, args, cancellation_manager)\u001b[0m\n\u001b[0;32m    594\u001b[0m               \u001b[0minputs\u001b[0m\u001b[1;33m=\u001b[0m\u001b[0margs\u001b[0m\u001b[1;33m,\u001b[0m\u001b[1;33m\u001b[0m\u001b[1;33m\u001b[0m\u001b[0m\n\u001b[0;32m    595\u001b[0m               \u001b[0mattrs\u001b[0m\u001b[1;33m=\u001b[0m\u001b[0mattrs\u001b[0m\u001b[1;33m,\u001b[0m\u001b[1;33m\u001b[0m\u001b[1;33m\u001b[0m\u001b[0m\n\u001b[1;32m--> 596\u001b[1;33m               ctx=ctx)\n\u001b[0m\u001b[0;32m    597\u001b[0m         \u001b[1;32melse\u001b[0m\u001b[1;33m:\u001b[0m\u001b[1;33m\u001b[0m\u001b[1;33m\u001b[0m\u001b[0m\n\u001b[0;32m    598\u001b[0m           outputs = execute.execute_with_cancellation(\n",
      "\u001b[1;32m~\\.conda\\envs\\tf\\lib\\site-packages\\tensorflow\\python\\eager\\execute.py\u001b[0m in \u001b[0;36mquick_execute\u001b[1;34m(op_name, num_outputs, inputs, attrs, ctx, name)\u001b[0m\n\u001b[0;32m     58\u001b[0m     \u001b[0mctx\u001b[0m\u001b[1;33m.\u001b[0m\u001b[0mensure_initialized\u001b[0m\u001b[1;33m(\u001b[0m\u001b[1;33m)\u001b[0m\u001b[1;33m\u001b[0m\u001b[1;33m\u001b[0m\u001b[0m\n\u001b[0;32m     59\u001b[0m     tensors = pywrap_tfe.TFE_Py_Execute(ctx._handle, device_name, op_name,\n\u001b[1;32m---> 60\u001b[1;33m                                         inputs, attrs, num_outputs)\n\u001b[0m\u001b[0;32m     61\u001b[0m   \u001b[1;32mexcept\u001b[0m \u001b[0mcore\u001b[0m\u001b[1;33m.\u001b[0m\u001b[0m_NotOkStatusException\u001b[0m \u001b[1;32mas\u001b[0m \u001b[0me\u001b[0m\u001b[1;33m:\u001b[0m\u001b[1;33m\u001b[0m\u001b[1;33m\u001b[0m\u001b[0m\n\u001b[0;32m     62\u001b[0m     \u001b[1;32mif\u001b[0m \u001b[0mname\u001b[0m \u001b[1;32mis\u001b[0m \u001b[1;32mnot\u001b[0m \u001b[1;32mNone\u001b[0m\u001b[1;33m:\u001b[0m\u001b[1;33m\u001b[0m\u001b[1;33m\u001b[0m\u001b[0m\n",
      "\u001b[1;31mKeyboardInterrupt\u001b[0m: "
     ]
    }
   ],
   "source": [
    "results = model.fit(generate_batch(orig_train, forg_train, batch_sz),\n",
    "                              steps_per_epoch = num_train_samples//batch_sz,\n",
    "                              epochs = 5,\n",
    "                              validation_data = generate_batch(orig_val, forg_val, batch_sz),\n",
    "                              validation_steps = num_val_samples//batch_sz,\n",
    "                              callbacks = callbacks)"
   ]
  },
  {
   "cell_type": "code",
   "execution_count": 43,
   "metadata": {
    "id": "8jeKKFfc6LYf"
   },
   "outputs": [],
   "source": [
    "tpr_list = []\n",
    "tnr_list = []\n",
    "threshold_list = []\n",
    "\n",
    "def compute_accuracy_roc(predictions, labels):\n",
    "    '''Compute accuracy with a range of thresholds on distances.\n",
    "    '''\n",
    "    dmax = np.max(predictions)\n",
    "    dmin = np.min(predictions)\n",
    "    nsame = np.sum(labels == 1)\n",
    "    ndiff = np.sum(labels == 0)\n",
    "   \n",
    "    step = 0.01\n",
    "    max_acc = 0\n",
    "    best_thresh = -1\n",
    "   \n",
    "    for d in np.arange(dmin, dmax+step, step):\n",
    "        idx1 = predictions.ravel() <= d\n",
    "        idx2 = predictions.ravel() > d\n",
    "       \n",
    "        tpr = float(np.sum(labels[idx1] == 1)) / nsame       \n",
    "        tnr = float(np.sum(labels[idx2] == 0)) / ndiff\n",
    "        acc = 0.5 * (tpr + tnr)       \n",
    "\n",
    "        if (acc > max_acc):\n",
    "            max_acc, best_thresh = acc, d\n",
    "        tpr_list.append(tpr)\n",
    "        tnr_list.append(tnr)\n",
    "        threshold_list.append(best_thresh)\n",
    "           \n",
    "    return max_acc, best_thresh\n",
    "    "
   ]
  },
  {
   "cell_type": "code",
   "execution_count": 46,
   "metadata": {
    "id": "hjYnp7m56Ozb"
   },
   "outputs": [
    {
     "data": {
      "text/plain": [
       "(0.673143968408357, 0.5850860440731052)"
      ]
     },
     "execution_count": 46,
     "metadata": {},
     "output_type": "execute_result"
    }
   ],
   "source": [
    "model.load_weights(\"E:/nancy/svm/signet-001.h5py\")\n",
    "test_gen = generate_batch(orig_test, forg_test, 1)\n",
    "pred, tr_y = [], [] #tr_y have label\n",
    "for i in range(num_test_samples):\n",
    "    (img1, img2), label = next(test_gen)\n",
    "    tr_y.append(label)\n",
    "    pred.append(model.predict([img1, img2])[0][0])\n",
    "acc, threshold = compute_accuracy_roc(np.array(pred), np.array(tr_y))\n",
    "acc, threshold"
   ]
  },
  {
   "cell_type": "code",
   "execution_count": 47,
   "metadata": {
    "colab": {
     "background_save": true
    },
    "id": "3AcaYYFe6XpH"
   },
   "outputs": [],
   "source": [
    "pred_binary = [1 if x<0.012809 else 0 for x in pred]"
   ]
  },
  {
   "cell_type": "code",
   "execution_count": 48,
   "metadata": {
    "colab": {
     "background_save": true
    },
    "id": "Imm5biu_1A9L"
   },
   "outputs": [
    {
     "name": "stderr",
     "output_type": "stream",
     "text": [
      "C:\\Users\\Angana Das CBS\\.conda\\envs\\tf\\lib\\site-packages\\sklearn\\metrics\\_classification.py:1318: UndefinedMetricWarning: Recall and F-score are ill-defined and being set to 0.0 in labels with no true samples. Use `zero_division` parameter to control this behavior.\n",
      "  _warn_prf(average, modifier, msg_start, len(result))\n"
     ]
    },
    {
     "data": {
      "text/plain": [
       "(0.5, 0.3749095607235142, 0.4285123600815145)"
      ]
     },
     "execution_count": 48,
     "metadata": {},
     "output_type": "execute_result"
    }
   ],
   "source": [
    "from sklearn.metrics import precision_recall_fscore_support as score\n",
    "precision, recall, fscore, support = score(pred_binary, tr_y,average='macro')\n",
    "precision,recall,fscore"
   ]
  },
  {
   "cell_type": "code",
   "execution_count": 51,
   "metadata": {
    "id": "6JEW5hdY6aTK"
   },
   "outputs": [
    {
     "data": {
      "text/plain": [
       "Text(0.5, 1.0, 'True Positive Rate')"
      ]
     },
     "execution_count": 51,
     "metadata": {},
     "output_type": "execute_result"
    },
    {
     "data": {
      "image/png": "[encoded data removed]",
      "text/plain": [
       "<Figure size 432x288 with 1 Axes>"
      ]
     },
     "metadata": {
      "needs_background": "light"
     },
     "output_type": "display_data"
    }
   ],
   "source": [
    "plt.plot(threshold_list,tpr_list,'g--')\n",
    "plt.xlabel('Threshold')\n",
    "plt.ylabel('Accuracy')\n",
    "plt.title('True Positive Rate')\n",
    "\n",
    "#from google.colab import files\n",
    "#plt.savefig(\"TPR.png\")\n",
    "#files.download(\"TPR.png\") "
   ]
  },
  {
   "cell_type": "code",
   "execution_count": 53,
   "metadata": {
    "id": "1JtEkkit6cw-"
   },
   "outputs": [
    {
     "data": {
      "text/plain": [
       "Text(0.5, 1.0, 'True Negative Rate')"
      ]
     },
     "execution_count": 53,
     "metadata": {},
     "output_type": "execute_result"
    },
    {
     "data": {
      "image/png": "[encoded data removed]",
      "text/plain": [
       "<Figure size 432x288 with 1 Axes>"
      ]
     },
     "metadata": {
      "needs_background": "light"
     },
     "output_type": "display_data"
    }
   ],
   "source": [
    "plt.plot(threshold_list,tnr_list,'y--')\n",
    "plt.xlabel('Threshold')\n",
    "plt.ylabel('Accuracy')\n",
    "plt.title('True Negative Rate')\n",
    "\n",
    "#from google.colab import files\n",
    "#plt.savefig(\"TNR.png\")\n",
    "#files.download(\"TNR.png\")"
   ]
  },
  {
   "cell_type": "code",
   "execution_count": 55,
   "metadata": {
    "id": "IvGB0X8m6lV1"
   },
   "outputs": [
    {
     "data": {
      "image/png": "[encoded data removed]",
      "text/plain": [
       "<Figure size 432x288 with 1 Axes>"
      ]
     },
     "metadata": {
      "needs_background": "light"
     },
     "output_type": "display_data"
    }
   ],
   "source": [
    "fig, ax = plt.subplots()\n",
    "\n",
    "ax.plot(threshold_list, tnr_list, 'y--', label='TNR')\n",
    "ax.plot(threshold_list, tpr_list, 'g--', label='TPR')\n",
    "plt.xlabel('Threshold')\n",
    "plt.ylabel('Accuracy')\n",
    "plt.plot(0.0128,acc,'ro', label='EER') \n",
    "\n",
    "legend = ax.legend(loc='upper center', shadow=True, fontsize='x-large')\n",
    "# Put a nicer background color on the legend.\n",
    "legend.get_frame().set_facecolor('C0')\n",
    "\n",
    "#from google.colab import files\n",
    "#plt.savefig(\"EER.png\")\n",
    "#files.download(\"EER.png\") "
   ]
  },
  {
   "cell_type": "code",
   "execution_count": 56,
   "metadata": {
    "id": "MvwxHdzg6tQC"
   },
   "outputs": [],
   "source": [
    "def verify(img1, img2):\n",
    "    test_point, test_label = next(test_gen)\n",
    "    img1, img2 = test_point[0], test_point[1]\n",
    "    #print(img1)\n",
    "    fig, (ax1, ax2) = plt.subplots(1, 2, figsize = (10, 10))\n",
    "    ax1.imshow(np.squeeze(img1), cmap='gray')\n",
    "    ax2.imshow(np.squeeze(img2), cmap='gray')\n",
    "    ax1.set_title('Genuine')\n",
    "    if test_label == 1:\n",
    "        ax2.set_title('Genuine')\n",
    "    else:\n",
    "        ax2.set_title('Forged')\n",
    "    ax1.axis('off')\n",
    "    ax2.axis('off')\n",
    "    plt.show()\n",
    "    result = model.predict([img1, img2])\n",
    "    diff = result[0][0]\n",
    "    print(\"Difference Score = \", diff)\n",
    "    if diff > threshold:\n",
    "        print(\"Its a Forged Signature\")\n",
    "    else:\n",
    "        print(\"Its a Genuine Signature\")"
   ]
  },
  {
   "cell_type": "code",
   "execution_count": 57,
   "metadata": {
    "colab": {
     "base_uri": "https://localhost:8080/",
     "height": 261
    },
    "id": "JpoFb5VQ6wYA",
    "outputId": "c3623125-28e1-47cd-9da6-dc6ab2e2802d"
   },
   "outputs": [
    {
     "data": {
      "image/png": "[encoded data removed]",
      "text/plain": [
       "<Figure size 720x720 with 2 Axes>"
      ]
     },
     "metadata": {
      "needs_background": "light"
     },
     "output_type": "display_data"
    },
    {
     "name": "stdout",
     "output_type": "stream",
     "text": [
      "Difference Score =  0.7111784\n",
      "Its a Forged Signature\n"
     ]
    }
   ],
   "source": [
    "img1 = cv2.imread('E:/Cnn dataset/3/3_FORG_11.jpg',cv2.IMREAD_GRAYSCALE)\n",
    "img2 = cv2.imread('E:/Cnn dataset/3/3_ORG_07.jpg',cv2.IMREAD_GRAYSCALE)\n",
    "\n",
    "\n",
    "verify(img1,img2)"
   ]
  },
  {
   "cell_type": "code",
   "execution_count": 60,
   "metadata": {},
   "outputs": [],
   "source": [
    "from sklearn.metrics import classification_report, confusion_matrix"
   ]
  },
  {
   "cell_type": "code",
   "execution_count": 63,
   "metadata": {},
   "outputs": [
    {
     "data": {
      "image/png": "[encoded data removed]",
      "text/plain": [
       "<Figure size 720x720 with 2 Axes>"
      ]
     },
     "metadata": {
      "needs_background": "light"
     },
     "output_type": "display_data"
    },
    {
     "name": "stdout",
     "output_type": "stream",
     "text": [
      "Difference Score =  0.47096375\n",
      "Its a Genuine Signature\n"
     ]
    }
   ],
   "source": [
    "img1 = cv2.imread('E:/Cnn dataset/12/12_ORG_03.jpg',cv2.IMREAD_GRAYSCALE)\n",
    "img2 = cv2.imread('E:/Cnn dataset/12/12_FORG_05.jpg',cv2.IMREAD_GRAYSCALE)\n",
    "\n",
    "\n",
    "verify(img1,img2)"
   ]
  },
  {
   "cell_type": "code",
   "execution_count": null,
   "metadata": {},
   "outputs": [],
   "source": []
  }
 ],
 "metadata": {
  "accelerator": "GPU",
  "colab": {
   "name": "code",
   "provenance": []
  },
  "kernelspec": {
   "display_name": "Python 3 (ipykernel)",
   "language": "python",
   "name": "python3"
  },
  "language_info": {
   "codemirror_mode": {
    "name": "ipython",
    "version": 3
   },
   "file_extension": ".py",
   "mimetype": "text/x-python",
   "name": "python",
   "nbconvert_exporter": "python",
   "pygments_lexer": "ipython3",
   "version": "3.7.13"
  }
 },
 "nbformat": 4,
 "nbformat_minor": 1
}
