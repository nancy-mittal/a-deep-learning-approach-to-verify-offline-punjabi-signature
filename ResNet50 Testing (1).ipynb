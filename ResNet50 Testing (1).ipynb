{
 "cells": [
  {
   "cell_type": "code",
   "execution_count": 114,
   "id": "485191db",
   "metadata": {},
   "outputs": [],
   "source": [
    "import sys\n",
    "import os\n",
    "from copy import copy\n",
    "import numpy as np\n",
    "import pandas as pd\n",
    "import seaborn as sns\n",
    "import matplotlib as mlt\n",
    "import matplotlib.pyplot as plt\n",
    "%matplotlib inline\n",
    "import pickle\n",
    "\n",
    "import cv2\n",
    "import time\n",
    "import itertools\n",
    "import random\n",
    "\n",
    "from sklearn.utils import shuffle\n",
    "from sklearn.metrics import classification_report, confusion_matrix"
   ]
  },
  {
   "cell_type": "code",
   "execution_count": 115,
   "id": "93d1fe85",
   "metadata": {},
   "outputs": [],
   "source": [
    "import tensorflow.keras as keras\n",
    "\n",
    "from tensorflow.keras import layers, models, optimizers\n",
    "\n",
    "from tensorflow.keras.models import Sequential, Model\n",
    "from tensorflow.keras.layers import Flatten, Dense, Conv2D, MaxPooling2D, Concatenate, Dot, Lambda, Input, Dropout,ZeroPadding2D, Activation, concatenate, BatchNormalization, Conv1D, GlobalAveragePooling2D\n",
    "\n",
    "from tensorflow.keras.optimizers import Adam, RMSprop\n",
    "from tensorflow.keras import optimizers\n",
    "\n",
    "from tensorflow.keras.callbacks import EarlyStopping, ModelCheckpoint, ReduceLROnPlateau, CSVLogger\n",
    "\n",
    "from tensorflow.keras import backend as K"
   ]
  },
  {
   "cell_type": "code",
   "execution_count": 116,
   "id": "f6160820",
   "metadata": {},
   "outputs": [
    {
     "data": {
      "text/plain": [
       "170"
      ]
     },
     "execution_count": 116,
     "metadata": {},
     "output_type": "execute_result"
    }
   ],
   "source": [
    "path_dataset = r\"E://testing\"\n",
    "dir_list = next(os.walk(path_dataset))[1]\n",
    "dir_list.sort()\n",
    "len(dir_list)"
   ]
  },
  {
   "cell_type": "code",
   "execution_count": 119,
   "id": "fb72c11d",
   "metadata": {},
   "outputs": [],
   "source": [
    "orig_groups, forg_groups = [], []\n",
    "for directory in dir_list:\n",
    "    images = os.listdir(path_dataset+ '/' +directory)\n",
    "    images.sort()\n",
    "    images = [path_dataset+'/' +directory+'/'+x for x in images]\n",
    "    forg_groups.append(images[:15])\n",
    "    orig_groups.append(images[15:])"
   ]
  },
  {
   "cell_type": "code",
   "execution_count": 120,
   "id": "aa71fde1",
   "metadata": {},
   "outputs": [
    {
     "name": "stdout",
     "output_type": "stream",
     "text": [
      "170\n",
      "170\n"
     ]
    }
   ],
   "source": [
    "orig_lengths = [len(x) for x in orig_groups]\n",
    "forg_lengths = [len(x) for x in forg_groups]\n",
    "print(len(orig_lengths))\n",
    "print(len(forg_lengths))"
   ]
  },
  {
   "cell_type": "code",
   "execution_count": 121,
   "id": "646d5fb8",
   "metadata": {},
   "outputs": [
    {
     "data": {
      "text/plain": [
       "(150, 300, 1)"
      ]
     },
     "execution_count": 121,
     "metadata": {},
     "output_type": "execute_result"
    }
   ],
   "source": [
    "img_h, img_w, img_ch = 150, 300, 1\n",
    "image_shape = (img_h, img_w, img_ch)\n",
    "image_shape"
   ]
  },
  {
   "cell_type": "code",
   "execution_count": 122,
   "id": "c6636cc4",
   "metadata": {},
   "outputs": [],
   "source": [
    "siamese_net = keras.models.load_model(r\"E:/nancy/svm/model_3epoch.h5py\")"
   ]
  },
  {
   "cell_type": "code",
   "execution_count": 123,
   "id": "0ff19060",
   "metadata": {},
   "outputs": [
    {
     "name": "stdout",
     "output_type": "stream",
     "text": [
      "Model: \"model\"\n",
      "__________________________________________________________________________________________________\n",
      "Layer (type)                    Output Shape         Param #     Connected to                     \n",
      "==================================================================================================\n",
      "input_2 (InputLayer)            [(None, 150, 300, 1) 0                                            \n",
      "__________________________________________________________________________________________________\n",
      "input_3 (InputLayer)            [(None, 150, 300, 1) 0                                            \n",
      "__________________________________________________________________________________________________\n",
      "sequential (Sequential)         (None, 102400)       23581440    input_2[0][0]                    \n",
      "                                                                 input_3[0][0]                    \n",
      "__________________________________________________________________________________________________\n",
      "lambda (Lambda)                 (None, 102400)       0           sequential[0][0]                 \n",
      "                                                                 sequential[1][0]                 \n",
      "__________________________________________________________________________________________________\n",
      "dense (Dense)                   (None, 1)            102401      lambda[0][0]                     \n",
      "==================================================================================================\n",
      "Total params: 23,683,841\n",
      "Trainable params: 23,630,721\n",
      "Non-trainable params: 53,120\n",
      "__________________________________________________________________________________________________\n"
     ]
    }
   ],
   "source": [
    "siamese_net.summary()"
   ]
  },
  {
   "cell_type": "code",
   "execution_count": 124,
   "id": "839f7c07",
   "metadata": {},
   "outputs": [],
   "source": [
    "path_y = r\"E:/nancy/svm\""
   ]
  },
  {
   "cell_type": "code",
   "execution_count": 125,
   "id": "8a457d1b",
   "metadata": {},
   "outputs": [],
   "source": [
    "kernel = np.ones((9,9),np.uint8) # default\n",
    "def preprocessor_img(path, image_shape):\n",
    "  image = cv2.imread(path,0)\n",
    "  blured = cv2.GaussianBlur(image, (9,9), 0)\n",
    "  threshold, binary = cv2.threshold(blured, 0, 255, cv2.THRESH_BINARY_INV + cv2.THRESH_OTSU)\n",
    "  closing = cv2.morphologyEx(binary, cv2.MORPH_CLOSE, kernel, iterations=30)\n",
    "  contours, hierarchies = cv2.findContours(closing, cv2.RETR_EXTERNAL, cv2.CHAIN_APPROX_SIMPLE)\n",
    "  the_biggest_contour_by_area = max(contours, key=cv2.contourArea) \n",
    "  x,y,w,h = cv2.boundingRect(the_biggest_contour_by_area)\n",
    "  cropped = image[y:y+h, x:x+w]\n",
    "  resized = cv2.resize(cropped, image_shape, interpolation=cv2.INTER_LANCZOS4)\n",
    "  # resized_blured = cv2.GaussianBlur(resized, (9,9), 0)\n",
    "  threshold, resized_binary = cv2.threshold(resized, 0, 255, cv2.THRESH_BINARY + cv2.THRESH_OTSU)\n",
    "  return resized_binary"
   ]
  },
  {
   "cell_type": "code",
   "execution_count": 126,
   "id": "37640de2",
   "metadata": {},
   "outputs": [],
   "source": [
    "num_samples = 0\n",
    "y_true = 0"
   ]
  },
  {
   "cell_type": "code",
   "execution_count": 127,
   "id": "c5d0720e",
   "metadata": {},
   "outputs": [],
   "source": [
    "def generate_batch(orig_data, forg_data, batch_size = 32):\n",
    "\n",
    "  global num_samples, y_true\n",
    "\n",
    "  orig_pairs = []\n",
    "  forg_pairs = []\n",
    "  gen_gen_labels = []\n",
    "  gen_for_labels = []\n",
    "  all_pairs = []\n",
    "  all_labels = []\n",
    "\n",
    "  for orig, forg in zip(orig_data, forg_data):\n",
    "      orig_pairs.extend(list(itertools.combinations(orig, 2)))\n",
    "      for i in range(len(forg)):\n",
    "        forg_pairs.extend(list(itertools.product(orig[i:i+1], random.sample(forg, len(forg)))))\n",
    "  \n",
    "  # Label for Genuine-Genuine pairs is 1\n",
    "  # Label for Genuine-Forged pairs is 0\n",
    "  gen_gen_labels = [1]*len(orig_pairs)\n",
    "  gen_for_labels = [0]*len(forg_pairs)\n",
    "  \n",
    "  # Concatenate all the pairs together along with their labels and shuffle them\n",
    "  all_pairs = orig_pairs + forg_pairs\n",
    "  all_labels = gen_gen_labels + gen_for_labels\n",
    "  del orig_pairs, forg_pairs, gen_gen_labels, gen_for_labels\n",
    "  all_pairs, all_labels = shuffle(all_pairs, all_labels)\n",
    "\n",
    "  # print(len(all_pairs))\n",
    "  # pairss = all_pairs\n",
    "  num_samples = len(all_pairs) \n",
    "  y_true = all_labels\n",
    "\n",
    "  k = 0\n",
    "  pairs=[np.zeros((batch_size, img_h, img_w, img_ch)) for i in range(2)]\n",
    "  targets=np.zeros((batch_size,))\n",
    "\n",
    "  for ix, pair in enumerate(all_pairs):\n",
    "      img1 = preprocessor_img(pair[0], (img_w, img_h))\n",
    "      img2 = preprocessor_img(pair[1], (img_w, img_h))\n",
    "      # img1 = cv2.imread(pair[0],0)\n",
    "      # img2 = cv2.imread(pair[1],0)\n",
    "      # img1 = cv2.resize(img1, (img_w, img_h), interpolation=cv2.INTER_LANCZOS4)\n",
    "      # img2 = cv2.resize(img2, (img_w, img_h), interpolation=cv2.INTER_LANCZOS4)\n",
    "      img1 = img1.astype('float32')\n",
    "      img2 = img2.astype('float32')\n",
    "      img1 /= 255\n",
    "      img2 /= 255\n",
    "      img1 = np.atleast_3d(img1)\n",
    "      img2 = np.atleast_3d(img2)\n",
    "      # img2 = img2[...,np.newaxis]\n",
    "      pairs[0][k, :, :, :] = img1\n",
    "      pairs[1][k, :, :, :] = img2\n",
    "      targets[k] = all_labels[ix]\n",
    "\n",
    "      k += 1\n",
    "      if k == batch_size:\n",
    "          # yield np.array(pairs), np.array(targets)\n",
    "          yield pairs, targets\n",
    "          k = 0\n",
    "          pairs=[np.zeros((batch_size, img_h, img_w, img_ch)) for i in range(2)]\n",
    "          targets=np.zeros((batch_size,))"
   ]
  },
  {
   "cell_type": "code",
   "execution_count": 128,
   "id": "60f19d7a",
   "metadata": {},
   "outputs": [],
   "source": [
    "ff = generate_batch(orig_groups, forg_groups, batch_size = 32)\n",
    "\n",
    "\n",
    "pairs, targets = next(ff)\n",
    "pairs, targets = np.array(pairs), np.array(targets)"
   ]
  },
  {
   "cell_type": "code",
   "execution_count": 129,
   "id": "90efeccd",
   "metadata": {},
   "outputs": [
    {
     "data": {
      "text/plain": [
       "14846"
      ]
     },
     "execution_count": 129,
     "metadata": {},
     "output_type": "execute_result"
    }
   ],
   "source": [
    "num_samples"
   ]
  },
  {
   "cell_type": "code",
   "execution_count": 130,
   "id": "ed418ef5",
   "metadata": {},
   "outputs": [],
   "source": [
    "batch_sz = 2"
   ]
  },
  {
   "cell_type": "code",
   "execution_count": 131,
   "id": "6f5b7fd8",
   "metadata": {},
   "outputs": [
    {
     "data": {
      "text/plain": [
       "7423.0"
      ]
     },
     "execution_count": 131,
     "metadata": {},
     "output_type": "execute_result"
    }
   ],
   "source": [
    "num_samples / batch_sz"
   ]
  },
  {
   "cell_type": "code",
   "execution_count": 132,
   "id": "5bed894b",
   "metadata": {},
   "outputs": [
    {
     "name": "stdout",
     "output_type": "stream",
     "text": [
      "7423/7423 [==============================] - 1121s 151ms/step\n"
     ]
    }
   ],
   "source": [
    "y_pred = siamese_net.predict(\n",
    "                                      generate_batch(orig_groups, forg_groups, batch_size = batch_sz), \n",
    "                                      steps = num_samples/batch_sz,\n",
    "                                      verbose=1,\n",
    "                                      )"
   ]
  },
  {
   "cell_type": "code",
   "execution_count": 133,
   "id": "e88f5fce",
   "metadata": {},
   "outputs": [],
   "source": [
    "pickle.dump( y_pred, open(path_y + \"y_pred.pickle\",'wb') )"
   ]
  },
  {
   "cell_type": "code",
   "execution_count": 134,
   "id": "b15104ca",
   "metadata": {},
   "outputs": [],
   "source": [
    "y_pred = pickle.load(open(path_y + \"y_pred.pickle\",'rb'))"
   ]
  },
  {
   "cell_type": "code",
   "execution_count": 135,
   "id": "993ffa16",
   "metadata": {},
   "outputs": [
    {
     "data": {
      "text/plain": [
       "array([[0.05516449],\n",
       "       [0.1013056 ],\n",
       "       [0.01601604],\n",
       "       ...,\n",
       "       [0.04415399],\n",
       "       [0.0031164 ],\n",
       "       [0.28356963]], dtype=float32)"
      ]
     },
     "execution_count": 135,
     "metadata": {},
     "output_type": "execute_result"
    }
   ],
   "source": [
    "y_pred"
   ]
  },
  {
   "cell_type": "code",
   "execution_count": 136,
   "id": "5c3141af",
   "metadata": {},
   "outputs": [],
   "source": [
    "y_pred_round = y_pred.round().flatten().astype('int')"
   ]
  },
  {
   "cell_type": "code",
   "execution_count": 137,
   "id": "8a3e2646",
   "metadata": {},
   "outputs": [],
   "source": [
    "y_true = np.array(y_true)"
   ]
  },
  {
   "cell_type": "code",
   "execution_count": 138,
   "id": "f679c64d",
   "metadata": {},
   "outputs": [
    {
     "data": {
      "text/plain": [
       "array([0, 0, 0, ..., 0, 0, 0])"
      ]
     },
     "execution_count": 138,
     "metadata": {},
     "output_type": "execute_result"
    }
   ],
   "source": [
    "y_pred_round"
   ]
  },
  {
   "cell_type": "code",
   "execution_count": 139,
   "id": "9e4c8972",
   "metadata": {},
   "outputs": [
    {
     "data": {
      "text/plain": [
       "array([0, 0, 0, ..., 1, 0, 0])"
      ]
     },
     "execution_count": 139,
     "metadata": {},
     "output_type": "execute_result"
    }
   ],
   "source": [
    "y_true"
   ]
  },
  {
   "cell_type": "code",
   "execution_count": 140,
   "id": "6d6f9ef8",
   "metadata": {},
   "outputs": [],
   "source": [
    "data = {}\n",
    "data['y_pred'] = y_pred\n",
    "data['y_pred_round'] = y_pred_round\n",
    "data['y_true'] = y_true\n",
    "\n",
    "pickle.dump( data, open(path_y + \"y_history_3epoch.pickle\",'wb') )"
   ]
  },
  {
   "cell_type": "code",
   "execution_count": 141,
   "id": "06e5dbe4",
   "metadata": {},
   "outputs": [],
   "source": [
    "data = pickle.load(open(path_y + \"y_history_3epoch.pickle\",'rb'))"
   ]
  },
  {
   "cell_type": "code",
   "execution_count": 142,
   "id": "db04f168",
   "metadata": {},
   "outputs": [],
   "source": [
    "y_pred_round , y_true = data['y_pred_round'], data['y_true']"
   ]
  },
  {
   "cell_type": "code",
   "execution_count": 143,
   "id": "beb9a84d",
   "metadata": {},
   "outputs": [
    {
     "data": {
      "text/plain": [
       "((14846,), (12990,), (1856,))"
      ]
     },
     "execution_count": 143,
     "metadata": {},
     "output_type": "execute_result"
    }
   ],
   "source": [
    "y_true.shape, y_true[y_true==0].shape , y_true[y_true==1].shape"
   ]
  },
  {
   "cell_type": "code",
   "execution_count": 144,
   "id": "2bddb5e0",
   "metadata": {},
   "outputs": [
    {
     "data": {
      "text/plain": [
       "array([[12949,    41],\n",
       "       [ 1843,    13]], dtype=int64)"
      ]
     },
     "execution_count": 144,
     "metadata": {},
     "output_type": "execute_result"
    }
   ],
   "source": [
    "cm = confusion_matrix(y_true, y_pred_round)\n",
    "cm"
   ]
  },
  {
   "cell_type": "code",
   "execution_count": 145,
   "id": "cd6b1462",
   "metadata": {
    "scrolled": false
   },
   "outputs": [
    {
     "data": {
      "image/png": "[encoded data removed]",
      "text/plain": [
       "<Figure size 720x360 with 2 Axes>"
      ]
     },
     "metadata": {
      "needs_background": "light"
     },
     "output_type": "display_data"
    }
   ],
   "source": [
    "# drawing confusion matrix\n",
    "plt.figure(figsize=(10,5))\n",
    "sns.heatmap(cm, center = True, annot=True, fmt=\"d\")\n",
    "\n",
    "plt.title('Confusion Matrix')\n",
    "plt.tight_layout()\n",
    "\n",
    "# save the figure\n",
    "plt.savefig(path_y + \"CM.png\")\n",
    "\n",
    "\n",
    "plt.show()"
   ]
  },
  {
   "cell_type": "code",
   "execution_count": 146,
   "id": "b1fd1500",
   "metadata": {},
   "outputs": [
    {
     "name": "stdout",
     "output_type": "stream",
     "text": [
      "Accuracy :  87.30971305402129 %\n"
     ]
    }
   ],
   "source": [
    "from sklearn.metrics import accuracy_score\n",
    "accuracy = accuracy_score(y_true, y_pred_round)\n",
    "print(\"Accuracy : \", accuracy*100, \"%\")"
   ]
  },
  {
   "cell_type": "code",
   "execution_count": 147,
   "id": "6adde16c",
   "metadata": {},
   "outputs": [
    {
     "name": "stdout",
     "output_type": "stream",
     "text": [
      "              precision    recall  f1-score   support\n",
      "\n",
      "           0       0.88      1.00      0.93     12990\n",
      "           1       0.24      0.01      0.01      1856\n",
      "\n",
      "    accuracy                           0.87     14846\n",
      "   macro avg       0.56      0.50      0.47     14846\n",
      "weighted avg       0.80      0.87      0.82     14846\n",
      "\n"
     ]
    }
   ],
   "source": [
    "print(classification_report(y_true,y_pred_round,output_dict=False))"
   ]
  },
  {
   "cell_type": "code",
   "execution_count": 148,
   "id": "a8c29307",
   "metadata": {},
   "outputs": [
    {
     "data": {
      "text/html": [
       "<div>\n",
       "<style scoped>\n",
       "    .dataframe tbody tr th:only-of-type {\n",
       "        vertical-align: middle;\n",
       "    }\n",
       "\n",
       "    .dataframe tbody tr th {\n",
       "        vertical-align: top;\n",
       "    }\n",
       "\n",
       "    .dataframe thead th {\n",
       "        text-align: right;\n",
       "    }\n",
       "</style>\n",
       "<table border=\"1\" class=\"dataframe\">\n",
       "  <thead>\n",
       "    <tr style=\"text-align: right;\">\n",
       "      <th></th>\n",
       "      <th>precision</th>\n",
       "      <th>recall</th>\n",
       "      <th>f1-score</th>\n",
       "      <th>support</th>\n",
       "    </tr>\n",
       "  </thead>\n",
       "  <tbody>\n",
       "    <tr>\n",
       "      <th>0</th>\n",
       "      <td>0.875406</td>\n",
       "      <td>0.996844</td>\n",
       "      <td>0.932186</td>\n",
       "      <td>12990.000000</td>\n",
       "    </tr>\n",
       "    <tr>\n",
       "      <th>1</th>\n",
       "      <td>0.240741</td>\n",
       "      <td>0.007004</td>\n",
       "      <td>0.013613</td>\n",
       "      <td>1856.000000</td>\n",
       "    </tr>\n",
       "    <tr>\n",
       "      <th>accuracy</th>\n",
       "      <td>0.873097</td>\n",
       "      <td>0.873097</td>\n",
       "      <td>0.873097</td>\n",
       "      <td>0.873097</td>\n",
       "    </tr>\n",
       "    <tr>\n",
       "      <th>macro avg</th>\n",
       "      <td>0.558073</td>\n",
       "      <td>0.501924</td>\n",
       "      <td>0.472899</td>\n",
       "      <td>14846.000000</td>\n",
       "    </tr>\n",
       "    <tr>\n",
       "      <th>weighted avg</th>\n",
       "      <td>0.796062</td>\n",
       "      <td>0.873097</td>\n",
       "      <td>0.817349</td>\n",
       "      <td>14846.000000</td>\n",
       "    </tr>\n",
       "  </tbody>\n",
       "</table>\n",
       "</div>"
      ],
      "text/plain": [
       "              precision    recall  f1-score       support\n",
       "0              0.875406  0.996844  0.932186  12990.000000\n",
       "1              0.240741  0.007004  0.013613   1856.000000\n",
       "accuracy       0.873097  0.873097  0.873097      0.873097\n",
       "macro avg      0.558073  0.501924  0.472899  14846.000000\n",
       "weighted avg   0.796062  0.873097  0.817349  14846.000000"
      ]
     },
     "execution_count": 148,
     "metadata": {},
     "output_type": "execute_result"
    }
   ],
   "source": [
    "cr = classification_report(y_true, y_pred_round, output_dict=True)\n",
    "pd.DataFrame(cr).T"
   ]
  },
  {
   "cell_type": "code",
   "execution_count": 149,
   "id": "a8d492d0",
   "metadata": {},
   "outputs": [
    {
     "name": "stdout",
     "output_type": "stream",
     "text": [
      "Wrong Value :  1884\n",
      "Wrong percentage :  12.69 %\n"
     ]
    }
   ],
   "source": [
    "ZeroOneLossValue = zero_one_loss(y_true, y_pred_round, normalize=False)\n",
    "print('Wrong Value : ', ZeroOneLossValue )\n",
    "ZeroOneLossValue = zero_one_loss(y_true, y_pred_round, normalize=True)\n",
    "print('Wrong percentage : ', round(ZeroOneLossValue*100,2), \"%\" )"
   ]
  },
  {
   "cell_type": "code",
   "execution_count": 150,
   "id": "f4a0f69a",
   "metadata": {},
   "outputs": [
    {
     "name": "stdout",
     "output_type": "stream",
     "text": [
      "False Postitve Rate Value :  [0.         0.00315627 1.        ]\n",
      "True Postitve Rate Value Value  :  [0.         0.00700431 1.        ]\n",
      "thresholds Value  :  [2 1 0]\n"
     ]
    }
   ],
   "source": [
    "fprValue, tprValue, thresholdsValue = roc_curve(y_true, y_pred_round)\n",
    "print('False Postitve Rate Value : ', fprValue)\n",
    "print('True Postitve Rate Value Value  : ', tprValue)\n",
    "print('thresholds Value  : ', thresholdsValue)"
   ]
  },
  {
   "cell_type": "code",
   "execution_count": null,
   "id": "f902fdc6",
   "metadata": {},
   "outputs": [],
   "source": []
  }
 ],
 "metadata": {
  "kernelspec": {
   "display_name": "Python 3 (ipykernel)",
   "language": "python",
   "name": "python3"
  },
  "language_info": {
   "codemirror_mode": {
    "name": "ipython",
    "version": 3
   },
   "file_extension": ".py",
   "mimetype": "text/x-python",
   "name": "python",
   "nbconvert_exporter": "python",
   "pygments_lexer": "ipython3",
   "version": "3.7.13"
  }
 },
 "nbformat": 4,
 "nbformat_minor": 5
}
